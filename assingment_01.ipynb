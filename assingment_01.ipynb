{
  "nbformat": 4,
  "nbformat_minor": 0,
  "metadata": {
    "colab": {
      "provenance": [],
      "authorship_tag": "ABX9TyOlZRj8Wy6+3PFBC9YU8/ZK",
      "include_colab_link": true
    },
    "kernelspec": {
      "name": "python3",
      "display_name": "Python 3"
    },
    "language_info": {
      "name": "python"
    }
  },
  "cells": [
    {
      "cell_type": "markdown",
      "metadata": {
        "id": "view-in-github",
        "colab_type": "text"
      },
      "source": [
        "<a href=\"https://colab.research.google.com/github/Jigyasha17/jigyasha_17/blob/main/assingment_01.ipynb\" target=\"_parent\"><img src=\"https://colab.research.google.com/assets/colab-badge.svg\" alt=\"Open In Colab\"/></a>"
      ]
    },
    {
      "cell_type": "markdown",
      "source": [
        "ASSINGMENT -01\n",
        "theory questions"
      ],
      "metadata": {
        "id": "Uw3X7tYzjaBw"
      }
    },
    {
      "cell_type": "markdown",
      "source": [
        "***1) WHAT IS PYTHON AND WHY IS IT SO POPULAR?***\n",
        "    # ans- Python is an open source object oriented programming language designed by GUIDO VON ROSSUM in the year 1991.\n",
        "    Python is popular because-\n",
        "\n",
        "1.   open source\n",
        "2.   easy to use\n",
        "3.   contains a vast number of libraries\n",
        "4.   has a large inbuilt community\n",
        "5.   python is platform independent that means can run on variety of platforms e.g linux , windows , os etc.\n",
        "\n"
      ],
      "metadata": {
        "id": "NuQk0zj3jiEx"
      }
    },
    {
      "cell_type": "markdown",
      "source": [
        "***2) WHAT IS AN INTERPRETER IN PYTHON?***\n",
        " #ANS interpreter in python acts a a translator between the system and the programmer ,it conversts codes wriiten in  high level language like python into machine level language like binary which can be understood by the computer."
      ],
      "metadata": {
        "id": "L0lQO6NLkgnD"
      }
    },
    {
      "cell_type": "markdown",
      "source": [
        "***3) What are pre define keywords in python?***\n",
        "    #ans predfined keywords in python are predefined words that have a special meaning and perform a particular task in python or have a special purpose.#"
      ],
      "metadata": {
        "id": "qOSMf_XSmMDB"
      }
    },
    {
      "cell_type": "markdown",
      "source": [
        "***4) Can keywords be used as variable names in python ?***\n",
        " ##### ans no python keywords cannot be used as a varable name in python , keywords already have a predefined purpose.\n"
      ],
      "metadata": {
        "id": "ak0TmaPGnE18"
      }
    },
    {
      "cell_type": "markdown",
      "source": [
        "***5) What is mutability in python?***\n",
        " ##ans in python objects can be mutable or immutable. mutable objets in python like lists and dictionaries can be modified after creation ."
      ],
      "metadata": {
        "id": "S3QVN29XoSkc"
      }
    },
    {
      "cell_type": "markdown",
      "source": [
        "***6)why are lists mutable while tuples are immutable?***\n",
        "###### ans lists are mutable because they can be altered  in terms of size and its element after creation while tuples cannot be altered , thus lists are mutable while tuples are not."
      ],
      "metadata": {
        "id": "w-CpT6FQpHn6"
      }
    },
    {
      "cell_type": "markdown",
      "source": [
        "***7) what is the difference between '==' and 'is ' operators in python?***\n",
        "####ans \"==\" operator compres two values  two values in terms of its face values , if face values are found to be equal o/p is True else False where as 'is' operator is used to compare two values in term of its memory location , if two values have same memory location then o/p is true ele false.\n",
        "\n"
      ],
      "metadata": {
        "id": "c2FH07Xup6OK"
      }
    },
    {
      "cell_type": "code",
      "source": [
        "a=4\n",
        "b=5\n",
        "c=a\n",
        "print(a==4)\n",
        "print(a is c)\n"
      ],
      "metadata": {
        "colab": {
          "base_uri": "https://localhost:8080/"
        },
        "id": "LIExut6RrA35",
        "outputId": "4ea3d005-f808-4045-a675-9a166a9ee0b3"
      },
      "execution_count": 5,
      "outputs": [
        {
          "output_type": "stream",
          "name": "stdout",
          "text": [
            "True\n",
            "True\n"
          ]
        }
      ]
    },
    {
      "cell_type": "markdown",
      "source": [
        "***8)what are logical opertors in python?***\n",
        " ###ans Logical operators are used to combine conditional statements and evaluate expressions based on truth values . They are of three types 'and','or' and 'not'. in case of \"and\" o/p is true if both the values are true else false , in case of or o/p is false if both te values are false and in case of **not** operator it returns the opposite value i.e false for true and true for false.\n",
        ""
      ],
      "metadata": {
        "id": "h4CuCLHkrnUi"
      }
    },
    {
      "cell_type": "code",
      "source": [
        "x=4\n",
        "y=0\n",
        "c=1\n",
        "d=False\n",
        "print(x and y)\n",
        "print(x and c)\n",
        "print(x or y)\n",
        "print(y or d)\n",
        "print(not x)"
      ],
      "metadata": {
        "colab": {
          "base_uri": "https://localhost:8080/"
        },
        "id": "jQd6tF4gtHV4",
        "outputId": "de36385e-5a62-4a36-9ebd-2b91bd5fc670"
      },
      "execution_count": 8,
      "outputs": [
        {
          "output_type": "stream",
          "name": "stdout",
          "text": [
            "0\n",
            "1\n",
            "4\n",
            "False\n",
            "False\n"
          ]
        }
      ]
    },
    {
      "cell_type": "markdown",
      "source": [
        "***9) What is type casting in python?***\n",
        "    #ans Type casting can be refferred as changing one data type into another data type e.g string to integer . It is used in arithmetic operations , data manipulation and input-output operations in python."
      ],
      "metadata": {
        "id": "Fe2yDdvHunqP"
      }
    },
    {
      "cell_type": "code",
      "source": [
        "a=\"5\"\n",
        "b=4\n",
        "#print(a+b)- gives error\n",
        "print(int(a)+b) # gives no error as a is type casted to integer\n"
      ],
      "metadata": {
        "colab": {
          "base_uri": "https://localhost:8080/"
        },
        "id": "XUZem-qXvll1",
        "outputId": "9eb07da1-b1b6-4943-d03e-6db7d8c3d8ce"
      },
      "execution_count": 11,
      "outputs": [
        {
          "output_type": "stream",
          "name": "stdout",
          "text": [
            "9\n"
          ]
        }
      ]
    },
    {
      "cell_type": "markdown",
      "source": [
        "***10)What is the difference between implicit and explicit type casting?***\n",
        "    # ans In implicit type casting , the progrming language automaticaly converts data rtyp from one to another  e.g in case of additon of numbers withe data types in float and integer  the sum is automatically onverted to float .\n",
        "    In explicit type casting conversion is done by the programmer itself  ,python hs inbuilt keywords like str() , float() , integer() for explicit type casting . This can be een in case of addition of a string and an integer , the string value has to be converted into integer to obtain the sum."
      ],
      "metadata": {
        "id": "xeYqQU3Wv8aW"
      }
    },
    {
      "cell_type": "markdown",
      "source": [
        "***11)what is the purpose of conditiona statements in python ?***\n",
        "      #ans conditional statements are used to execute code based on one or more condition .python supports conditional sttements such as if , eif, else to control the flow of execution."
      ],
      "metadata": {
        "id": "rxSqz45m3WAz"
      }
    },
    {
      "cell_type": "markdown",
      "source": [
        "***12) How dos elif statement work ?***\n",
        "     ans)elif stands or else if so if a code has multiple conditions out of which  output haas to be generated if one conditin comes to be true , in such cass elif is used other if and else ,such that if ,\"if\" condition is false so the code can check for elif condition."
      ],
      "metadata": {
        "id": "yxpCWPcb4M6d"
      }
    },
    {
      "cell_type": "code",
      "source": [
        "for i in range (0,11):\n",
        "  if i==0 :\n",
        "    print('even')\n",
        "  elif i%2==0:\n",
        "    print('even') # runs only when if condition is false\n",
        "  else :\n",
        "    print('odd') # runs if bthe if an elif condition is false"
      ],
      "metadata": {
        "colab": {
          "base_uri": "https://localhost:8080/"
        },
        "id": "hktbnRL846p3",
        "outputId": "da440e40-56ed-4ebb-8aae-ce1f00793c61"
      },
      "execution_count": 12,
      "outputs": [
        {
          "output_type": "stream",
          "name": "stdout",
          "text": [
            "even\n",
            "odd\n",
            "even\n",
            "odd\n",
            "even\n",
            "odd\n",
            "even\n",
            "odd\n",
            "even\n",
            "odd\n",
            "even\n"
          ]
        }
      ]
    },
    {
      "cell_type": "markdown",
      "source": [
        "***13) what is the difference between for and while loop ?***\n",
        "     ans In case of for loopthe no. of iterations are known beforehand where as in case of while loop number of iterations are not predetermined and depends on the condition itself, it runs until a given set of condition is true."
      ],
      "metadata": {
        "id": "yzPNXIUE68tj"
      }
    },
    {
      "cell_type": "code",
      "source": [
        "for i in range(1,5):\n",
        "  print(i)\n"
      ],
      "metadata": {
        "colab": {
          "base_uri": "https://localhost:8080/"
        },
        "id": "yqQWjb187x5a",
        "outputId": "7485e05e-5c1f-45ac-da87-54bb32d922a5"
      },
      "execution_count": 17,
      "outputs": [
        {
          "output_type": "stream",
          "name": "stdout",
          "text": [
            "1\n",
            "2\n",
            "3\n",
            "4\n"
          ]
        }
      ]
    },
    {
      "cell_type": "code",
      "source": [
        "j=1\n",
        "while j<15:\n",
        "  print(j)\n",
        "  j=j+1"
      ],
      "metadata": {
        "colab": {
          "base_uri": "https://localhost:8080/"
        },
        "id": "EeovEtDD9DaC",
        "outputId": "57994a58-5897-4896-b1f1-2a3848cabbff"
      },
      "execution_count": 23,
      "outputs": [
        {
          "output_type": "stream",
          "name": "stdout",
          "text": [
            "1\n",
            "2\n",
            "3\n",
            "4\n",
            "5\n",
            "6\n",
            "7\n",
            "8\n",
            "9\n",
            "10\n",
            "11\n",
            "12\n",
            "13\n",
            "14\n"
          ]
        }
      ]
    },
    {
      "cell_type": "markdown",
      "source": [
        "***14) describe a scenario where while loop is more suitable than for loop.***\n",
        "while loop are most preferred in situations where the input is taken by the user because the input as well as the number of iterations both are not predefined ."
      ],
      "metadata": {
        "id": "VfprmF0-9eUZ"
      }
    },
    {
      "cell_type": "code",
      "source": [
        "count =0\n",
        "while count<3:\n",
        "  print('loop iteration',count)\n",
        "  count+=1\n",
        "print('loop finished')\n"
      ],
      "metadata": {
        "colab": {
          "base_uri": "https://localhost:8080/"
        },
        "id": "EVcmfRGJCANH",
        "outputId": "2a4b5c7a-89fa-463a-c743-d5f56b80958e"
      },
      "execution_count": 35,
      "outputs": [
        {
          "output_type": "stream",
          "name": "stdout",
          "text": [
            "loop iteration 0\n",
            "loop iteration 1\n",
            "loop iteration 2\n",
            "loop finished\n"
          ]
        }
      ]
    },
    {
      "cell_type": "markdown",
      "source": [
        "# PRACTICAL QUESTIONS"
      ],
      "metadata": {
        "id": "Q46ioXT6Cq26"
      }
    },
    {
      "cell_type": "code",
      "source": [
        "#  1)Write a python program to print 'hello world'\n",
        "print('Hello world')"
      ],
      "metadata": {
        "colab": {
          "base_uri": "https://localhost:8080/"
        },
        "id": "riCYmxA7C1nU",
        "outputId": "4ebc3afb-ae2f-446a-c75f-4d61e88e099f"
      },
      "execution_count": 36,
      "outputs": [
        {
          "output_type": "stream",
          "name": "stdout",
          "text": [
            "Hello world\n"
          ]
        }
      ]
    },
    {
      "cell_type": "code",
      "source": [
        "#2) Write a Python program that displays your name and age .\n",
        "print('My name is Jigyasa Pandey and my age is 22 ')"
      ],
      "metadata": {
        "colab": {
          "base_uri": "https://localhost:8080/"
        },
        "id": "75KxGZJJDG5Q",
        "outputId": "46b465ba-d766-4300-a157-bf111d31adcd"
      },
      "execution_count": 44,
      "outputs": [
        {
          "output_type": "stream",
          "name": "stdout",
          "text": [
            "My name is Jigyasa Pandey and my age is 22 \n"
          ]
        }
      ]
    },
    {
      "cell_type": "code",
      "source": [
        "# 3)write a code to print all the pre defined  keywords in python using the keyword library.\n",
        "import keyword\n",
        "help(keyword)"
      ],
      "metadata": {
        "colab": {
          "base_uri": "https://localhost:8080/"
        },
        "id": "OFAHmpMaDkg7",
        "outputId": "70e0bb4e-2ec8-474b-d482-c6f17d21318c"
      },
      "execution_count": 48,
      "outputs": [
        {
          "output_type": "stream",
          "name": "stdout",
          "text": [
            "Help on module keyword:\n",
            "\n",
            "NAME\n",
            "    keyword - Keywords (from \"Grammar/python.gram\")\n",
            "\n",
            "MODULE REFERENCE\n",
            "    https://docs.python.org/3.11/library/keyword.html\n",
            "    \n",
            "    The following documentation is automatically generated from the Python\n",
            "    source files.  It may be incomplete, incorrect or include features that\n",
            "    are considered implementation detail and may vary between Python\n",
            "    implementations.  When in doubt, consult the module reference at the\n",
            "    location listed above.\n",
            "\n",
            "DESCRIPTION\n",
            "    This file is automatically generated; please don't muck it up!\n",
            "    \n",
            "    To update the symbols in this file, 'cd' to the top directory of\n",
            "    the python source tree and run:\n",
            "    \n",
            "        PYTHONPATH=Tools/peg_generator python3 -m pegen.keywordgen         Grammar/python.gram         Grammar/Tokens         Lib/keyword.py\n",
            "    \n",
            "    Alternatively, you can run 'make regen-keyword'.\n",
            "\n",
            "FUNCTIONS\n",
            "    iskeyword = __contains__(...) method of builtins.frozenset instance\n",
            "        x.__contains__(y) <==> y in x.\n",
            "    \n",
            "    issoftkeyword = __contains__(...) method of builtins.frozenset instance\n",
            "        x.__contains__(y) <==> y in x.\n",
            "\n",
            "DATA\n",
            "    __all__ = ['iskeyword', 'issoftkeyword', 'kwlist', 'softkwlist']\n",
            "    kwlist = ['False', 'None', 'True', 'and', 'as', 'assert', 'async', 'aw...\n",
            "    softkwlist = ['_', 'case', 'match']\n",
            "\n",
            "FILE\n",
            "    /usr/lib/python3.11/keyword.py\n",
            "\n",
            "\n"
          ]
        }
      ]
    },
    {
      "cell_type": "code",
      "source": [
        "#4) Write a program that checks if a given word is a keyword.\n",
        "import keyword\n",
        "a =input('enter the word')\n",
        "if keyword.iskeyword(a):\n",
        "  print(a,'is a keyword')\n",
        "else:\n",
        "  print(a,'is not a keyword')\n"
      ],
      "metadata": {
        "colab": {
          "base_uri": "https://localhost:8080/"
        },
        "id": "x2iEvf_QFdiS",
        "outputId": "89d8c03a-3a9a-474a-d2cd-fb2886c367ea"
      },
      "execution_count": 49,
      "outputs": [
        {
          "output_type": "stream",
          "name": "stdout",
          "text": [
            "enter the wordfor\n",
            "for is a keyword\n"
          ]
        }
      ]
    },
    {
      "cell_type": "code",
      "source": [
        "#5)create a list and tuple in python and demeontrartehow attemptin to change an element works differently.\n",
        "a=[1,2,3,4,5]\n",
        "b=(2,6,8,9,10)\n",
        "a[0]=10\n",
        "print(a)\n",
        "b[0]=7\n",
        "print(b)"
      ],
      "metadata": {
        "colab": {
          "base_uri": "https://localhost:8080/",
          "height": 211
        },
        "id": "lkArzKqeIKzN",
        "outputId": "2b03c1a1-b038-4478-ec01-05c659d839aa"
      },
      "execution_count": 50,
      "outputs": [
        {
          "output_type": "stream",
          "name": "stdout",
          "text": [
            "[10, 2, 3, 4, 5]\n"
          ]
        },
        {
          "output_type": "error",
          "ename": "TypeError",
          "evalue": "'tuple' object does not support item assignment",
          "traceback": [
            "\u001b[0;31m---------------------------------------------------------------------------\u001b[0m",
            "\u001b[0;31mTypeError\u001b[0m                                 Traceback (most recent call last)",
            "\u001b[0;32m/tmp/ipython-input-50-3061717847.py\u001b[0m in \u001b[0;36m<cell line: 0>\u001b[0;34m()\u001b[0m\n\u001b[1;32m      4\u001b[0m \u001b[0ma\u001b[0m\u001b[0;34m[\u001b[0m\u001b[0;36m0\u001b[0m\u001b[0;34m]\u001b[0m\u001b[0;34m=\u001b[0m\u001b[0;36m10\u001b[0m\u001b[0;34m\u001b[0m\u001b[0;34m\u001b[0m\u001b[0m\n\u001b[1;32m      5\u001b[0m \u001b[0mprint\u001b[0m\u001b[0;34m(\u001b[0m\u001b[0ma\u001b[0m\u001b[0;34m)\u001b[0m\u001b[0;34m\u001b[0m\u001b[0;34m\u001b[0m\u001b[0m\n\u001b[0;32m----> 6\u001b[0;31m \u001b[0mb\u001b[0m\u001b[0;34m[\u001b[0m\u001b[0;36m0\u001b[0m\u001b[0;34m]\u001b[0m\u001b[0;34m=\u001b[0m\u001b[0;36m7\u001b[0m\u001b[0;34m\u001b[0m\u001b[0;34m\u001b[0m\u001b[0m\n\u001b[0m\u001b[1;32m      7\u001b[0m \u001b[0mprint\u001b[0m\u001b[0;34m(\u001b[0m\u001b[0mb\u001b[0m\u001b[0;34m)\u001b[0m\u001b[0;34m\u001b[0m\u001b[0;34m\u001b[0m\u001b[0m\n",
            "\u001b[0;31mTypeError\u001b[0m: 'tuple' object does not support item assignment"
          ]
        }
      ]
    },
    {
      "cell_type": "code",
      "source": [
        "#6 write a function to demonstrate the behaviour of mutable and immutable objects.\n",
        "a=[1,2,5,7,8]\n",
        "b='apple'\n",
        "a[1]=4\n",
        "print(a)\n",
        "b[0]='m'"
      ],
      "metadata": {
        "colab": {
          "base_uri": "https://localhost:8080/",
          "height": 193
        },
        "id": "rRMcS8JuIwcS",
        "outputId": "7490e80a-d897-4234-8fa3-1e7b67cd5c67"
      },
      "execution_count": 51,
      "outputs": [
        {
          "output_type": "stream",
          "name": "stdout",
          "text": [
            "[1, 4, 5, 7, 8]\n"
          ]
        },
        {
          "output_type": "error",
          "ename": "TypeError",
          "evalue": "'str' object does not support item assignment",
          "traceback": [
            "\u001b[0;31m---------------------------------------------------------------------------\u001b[0m",
            "\u001b[0;31mTypeError\u001b[0m                                 Traceback (most recent call last)",
            "\u001b[0;32m/tmp/ipython-input-51-1755588699.py\u001b[0m in \u001b[0;36m<cell line: 0>\u001b[0;34m()\u001b[0m\n\u001b[1;32m      4\u001b[0m \u001b[0ma\u001b[0m\u001b[0;34m[\u001b[0m\u001b[0;36m1\u001b[0m\u001b[0;34m]\u001b[0m\u001b[0;34m=\u001b[0m\u001b[0;36m4\u001b[0m\u001b[0;34m\u001b[0m\u001b[0;34m\u001b[0m\u001b[0m\n\u001b[1;32m      5\u001b[0m \u001b[0mprint\u001b[0m\u001b[0;34m(\u001b[0m\u001b[0ma\u001b[0m\u001b[0;34m)\u001b[0m\u001b[0;34m\u001b[0m\u001b[0;34m\u001b[0m\u001b[0m\n\u001b[0;32m----> 6\u001b[0;31m \u001b[0mb\u001b[0m\u001b[0;34m[\u001b[0m\u001b[0;36m0\u001b[0m\u001b[0;34m]\u001b[0m\u001b[0;34m=\u001b[0m\u001b[0;34m'm'\u001b[0m\u001b[0;34m\u001b[0m\u001b[0;34m\u001b[0m\u001b[0m\n\u001b[0m",
            "\u001b[0;31mTypeError\u001b[0m: 'str' object does not support item assignment"
          ]
        }
      ]
    },
    {
      "cell_type": "code",
      "source": [
        "#7 write a program that performs arithmetic operations o two user input numbers\n",
        "x=int(input('enter first number'))\n",
        "y=int(input('enter second number'))\n",
        "a=x+y\n",
        "b=y-x\n",
        "c=x*y\n",
        "d=x/y\n",
        "e=x//y\n",
        "f=x**y\n",
        "print(a)\n",
        "print(b)\n",
        "print(c)\n",
        "print(d)\n",
        "print(e)"
      ],
      "metadata": {
        "colab": {
          "base_uri": "https://localhost:8080/"
        },
        "id": "jXZdNj8WJgnW",
        "outputId": "2abe6036-2705-4c2d-d279-342267353a6e"
      },
      "execution_count": 57,
      "outputs": [
        {
          "output_type": "stream",
          "name": "stdout",
          "text": [
            "  = enter first number5\n",
            " =  enter second number2\n",
            "7\n",
            "-3\n",
            "10\n",
            "2.5\n",
            "2\n"
          ]
        }
      ]
    },
    {
      "cell_type": "code",
      "source": [
        "#8 write a program to demonstarate the use of logical operators\n",
        "x=4\n",
        "y=0\n",
        "c=1\n",
        "d=False\n",
        "print(x and y)\n",
        "print(x and c)\n",
        "print(x or y)\n",
        "print(y or d)\n",
        "print(not x)"
      ],
      "metadata": {
        "colab": {
          "base_uri": "https://localhost:8080/"
        },
        "id": "_gBCMVL5K1jL",
        "outputId": "d5d7c791-e429-4d11-bd84-298f1df73f97"
      },
      "execution_count": 58,
      "outputs": [
        {
          "output_type": "stream",
          "name": "stdout",
          "text": [
            "0\n",
            "1\n",
            "4\n",
            "False\n",
            "False\n"
          ]
        }
      ]
    },
    {
      "cell_type": "code",
      "source": [
        "# 9 Rite a python program to convert user string  to integer float and boolean types\n",
        "x=input('enter the number')\n",
        "a=int(x)\n",
        "b=float(x)\n",
        "c=bool(x)\n",
        "print(a)\n",
        "print(b)\n",
        "print(c)\n"
      ],
      "metadata": {
        "colab": {
          "base_uri": "https://localhost:8080/"
        },
        "id": "EmaKDF0vLIvC",
        "outputId": "4f249a4c-df0d-4771-f40a-2d4800578f33"
      },
      "execution_count": 59,
      "outputs": [
        {
          "output_type": "stream",
          "name": "stdout",
          "text": [
            "enter the number7\n",
            "7\n",
            "7.0\n",
            "True\n"
          ]
        }
      ]
    },
    {
      "cell_type": "code",
      "source": [
        "# 10 write a code to demeonstarate type casting with list elements\n",
        "a=[1,3,4,5,6,7]\n",
        "x=float(a[0])\n",
        "y=str(a[1])\n",
        "z=bool(a[3])\n",
        "print(type(a),a)\n",
        "print(type(x),x)\n",
        "print(type(y),y)\n",
        "print(type(z),z)"
      ],
      "metadata": {
        "colab": {
          "base_uri": "https://localhost:8080/"
        },
        "id": "Ts-US9eVLqwc",
        "outputId": "80f789f5-20bf-4100-8178-d2337fabeefd"
      },
      "execution_count": 61,
      "outputs": [
        {
          "output_type": "stream",
          "name": "stdout",
          "text": [
            "<class 'list'> [1, 3, 4, 5, 6, 7]\n",
            "<class 'float'> 1.0\n",
            "<class 'str'> 3\n",
            "<class 'bool'> True\n"
          ]
        }
      ]
    },
    {
      "cell_type": "code",
      "source": [
        "# 11 write a program that check if a number is positive negative or zero\n",
        "a=int(input('enter the number'))\n",
        "if a==0:\n",
        "  print('zero')\n",
        "elif a>0:\n",
        "  print('positive')\n",
        "elif a<0:\n",
        "  print('negative')\n"
      ],
      "metadata": {
        "colab": {
          "base_uri": "https://localhost:8080/"
        },
        "id": "v2qSFtJyMXDB",
        "outputId": "4603326b-3524-4661-cb04-39bf1849e397"
      },
      "execution_count": 63,
      "outputs": [
        {
          "output_type": "stream",
          "name": "stdout",
          "text": [
            "enter the number-2\n",
            "negative\n"
          ]
        }
      ]
    },
    {
      "cell_type": "code",
      "source": [
        "# 12 write a for loop to print numbers from 1 to 10\n",
        "for i in range(1,11):\n",
        "  print(i)\n"
      ],
      "metadata": {
        "colab": {
          "base_uri": "https://localhost:8080/"
        },
        "id": "8SiyDCPMM7Pd",
        "outputId": "768477b0-1a9b-4bfe-eb06-8a5164bb0514"
      },
      "execution_count": 64,
      "outputs": [
        {
          "output_type": "stream",
          "name": "stdout",
          "text": [
            "1\n",
            "2\n",
            "3\n",
            "4\n",
            "5\n",
            "6\n",
            "7\n",
            "8\n",
            "9\n",
            "10\n"
          ]
        }
      ]
    },
    {
      "cell_type": "code",
      "source": [
        "#13write a program to print sum of all even numbers from 1 to 50\n",
        "x=0\n",
        "sum=0\n",
        "for i in range (1,51):\n",
        "  if i%2==0:\n",
        "    x=i\n",
        "    sum+=x\n",
        "print(sum)"
      ],
      "metadata": {
        "colab": {
          "base_uri": "https://localhost:8080/"
        },
        "id": "POH5tUpiNagF",
        "outputId": "831f0861-1341-44e6-be04-34af88894965"
      },
      "execution_count": 68,
      "outputs": [
        {
          "output_type": "stream",
          "name": "stdout",
          "text": [
            "650\n"
          ]
        }
      ]
    },
    {
      "cell_type": "code",
      "source": [
        "# 14 write a progrm to print the revere of the string\n",
        "a=input('enter the string  ')\n",
        "for i in range(len(a)-1,-1,-1):\n",
        "  print(a[i], end='')"
      ],
      "metadata": {
        "colab": {
          "base_uri": "https://localhost:8080/"
        },
        "id": "oWSv301nO7jr",
        "outputId": "ec3f61f8-9235-4279-eb03-b9e70d1ebdd8"
      },
      "execution_count": 72,
      "outputs": [
        {
          "output_type": "stream",
          "name": "stdout",
          "text": [
            "enter the string  python\n",
            "nohtyp"
          ]
        }
      ]
    },
    {
      "cell_type": "code",
      "source": [
        "# 15 write a python program to calculate the factorial of a number provided by the user using while loop\n",
        "a=int(input('enter the number'))\n",
        "fact=1\n",
        "while a>0:\n",
        "  fact=fact*a\n",
        "  a=a-1\n",
        "print(fact)\n"
      ],
      "metadata": {
        "colab": {
          "base_uri": "https://localhost:8080/"
        },
        "id": "02fJoQ1UP_sB",
        "outputId": "cd7e9f34-f67d-4748-e250-4e0792c3f4bb"
      },
      "execution_count": 73,
      "outputs": [
        {
          "output_type": "stream",
          "name": "stdout",
          "text": [
            "enter the number10\n",
            "3628800\n"
          ]
        }
      ]
    }
  ]
}